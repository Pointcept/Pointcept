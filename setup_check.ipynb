{
 "cells": [
  {
   "cell_type": "code",
   "execution_count": 4,
   "metadata": {},
   "outputs": [
    {
     "name": "stdout",
     "output_type": "stream",
     "text": [
      "CUDA Available: True\n",
      "CUDA Version: 12.1\n",
      "Current CUDA Device: 0\n",
      "CUDA Device Name: NVIDIA RTX A5000\n",
      "2.2.2+cu121\n"
     ]
    }
   ],
   "source": [
    "import torch\n",
    "from pointcept.models.point_transformer_v3 import PointTransformerV3\n",
    "\n",
    "# Check if CUDA is available\n",
    "cuda_available = torch.cuda.is_available()\n",
    "print(\"CUDA Available:\", cuda_available)\n",
    "\n",
    "# Get CUDA version\n",
    "if cuda_available:\n",
    "    cuda_version = torch.version.cuda\n",
    "    print(\"CUDA Version:\", cuda_version)\n",
    "\n",
    "# Check the current device\n",
    "current_device = torch.cuda.current_device() if cuda_available else \"No CUDA device\"\n",
    "print(\"Current CUDA Device:\", current_device)\n",
    "\n",
    "# Get the name of the current CUDA device\n",
    "device_name = torch.cuda.get_device_name(\n",
    "    current_device) if cuda_available else \"No CUDA device\"\n",
    "print(\"CUDA Device Name:\", device_name)\n",
    "\n",
    "\n",
    "print(torch.__version__)"
   ]
  },
  {
   "cell_type": "code",
   "execution_count": 7,
   "metadata": {},
   "outputs": [],
   "source": [
    "from pointcept.models.point_transformer_v3 import PointTransformerV3"
   ]
  },
  {
   "cell_type": "code",
   "execution_count": 8,
   "metadata": {},
   "outputs": [
    {
     "name": "stdout",
     "output_type": "stream",
     "text": [
      "> \u001b[0;32m/mnt/hdd/streakfull/pointcept/pointcept/models/point_transformer_v3/point_transformer_v3m1_base.py\u001b[0m(93)\u001b[0;36m__init__\u001b[0;34m()\u001b[0m\n",
      "\u001b[0;32m     91 \u001b[0;31m            assert (\n",
      "\u001b[0m\u001b[0;32m     92 \u001b[0;31m                \u001b[0mupcast_softmax\u001b[0m \u001b[0;32mis\u001b[0m \u001b[0;32mFalse\u001b[0m\u001b[0;34m\u001b[0m\u001b[0;34m\u001b[0m\u001b[0m\n",
      "\u001b[0m\u001b[0;32m---> 93 \u001b[0;31m            ), \"Set upcast_softmax to False when enable Flash Attention\"\n",
      "\u001b[0m\u001b[0;32m     94 \u001b[0;31m\u001b[0;34m\u001b[0m\u001b[0m\n",
      "\u001b[0m\u001b[0;32m     95 \u001b[0;31m            \u001b[0;32massert\u001b[0m \u001b[0mflash_attn\u001b[0m \u001b[0;32mis\u001b[0m \u001b[0;32mnot\u001b[0m \u001b[0;32mNone\u001b[0m\u001b[0;34m,\u001b[0m \u001b[0;34m\"Make sure flash_attn is installed.\"\u001b[0m\u001b[0;34m\u001b[0m\u001b[0;34m\u001b[0m\u001b[0m\n",
      "\u001b[0m\n"
     ]
    }
   ],
   "source": [
    "model = PointTransformerV3()\n",
    "model"
   ]
  },
  {
   "cell_type": "code",
   "execution_count": null,
   "metadata": {},
   "outputs": [],
   "source": []
  }
 ],
 "metadata": {
  "kernelspec": {
   "display_name": "scannet++_benchmark_pointcept-5WORPBbZ-py3.10",
   "language": "python",
   "name": "python3"
  },
  "language_info": {
   "codemirror_mode": {
    "name": "ipython",
    "version": 3
   },
   "file_extension": ".py",
   "mimetype": "text/x-python",
   "name": "python",
   "nbconvert_exporter": "python",
   "pygments_lexer": "ipython3",
   "version": "3.10.12"
  }
 },
 "nbformat": 4,
 "nbformat_minor": 2
}
